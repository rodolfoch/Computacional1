{
 "cells": [
  {
   "cell_type": "code",
   "execution_count": 1,
   "metadata": {
    "collapsed": true
   },
   "outputs": [],
   "source": [
    "import pandas as pd\n",
    "import numpy as np\n",
    "import matplotlib.pyplot as mplt\n",
    "import pylab as plt\n",
    "from matplotlib import rc\n",
    "from pylab import figure, show, legend, xlabel, ylabel\n",
    "\n",
    "\n",
    "import statsmodels.api as sm\n",
    "import scipy.stats as stats\n",
    "from scipy.io import loadmat\n"
   ]
  },
  {
   "cell_type": "code",
   "execution_count": 2,
   "metadata": {
    "collapsed": false
   },
   "outputs": [],
   "source": [
    "df = pd.read_csv(\"/home/rodolfoch/Computacional/Actividad6/mayjunstb.csv\")"
   ]
  },
  {
   "cell_type": "code",
   "execution_count": 3,
   "metadata": {
    "collapsed": false
   },
   "outputs": [
    {
     "data": {
      "text/html": [
       "<div>\n",
       "<table border=\"1\" class=\"dataframe\">\n",
       "  <thead>\n",
       "    <tr style=\"text-align: right;\">\n",
       "      <th></th>\n",
       "      <th>Date Time</th>\n",
       "      <th>Water Level</th>\n",
       "      <th>Sigma</th>\n",
       "      <th>I</th>\n",
       "      <th>L</th>\n",
       "    </tr>\n",
       "  </thead>\n",
       "  <tbody>\n",
       "    <tr>\n",
       "      <th>0</th>\n",
       "      <td>2016-05-01 00:00</td>\n",
       "      <td>1.180</td>\n",
       "      <td>0.012</td>\n",
       "      <td>0</td>\n",
       "      <td>0</td>\n",
       "    </tr>\n",
       "    <tr>\n",
       "      <th>1</th>\n",
       "      <td>2016-05-01 01:00</td>\n",
       "      <td>1.230</td>\n",
       "      <td>0.022</td>\n",
       "      <td>0</td>\n",
       "      <td>0</td>\n",
       "    </tr>\n",
       "    <tr>\n",
       "      <th>2</th>\n",
       "      <td>2016-05-01 02:00</td>\n",
       "      <td>1.262</td>\n",
       "      <td>0.016</td>\n",
       "      <td>0</td>\n",
       "      <td>0</td>\n",
       "    </tr>\n",
       "    <tr>\n",
       "      <th>3</th>\n",
       "      <td>2016-05-01 03:00</td>\n",
       "      <td>1.178</td>\n",
       "      <td>0.018</td>\n",
       "      <td>0</td>\n",
       "      <td>0</td>\n",
       "    </tr>\n",
       "    <tr>\n",
       "      <th>4</th>\n",
       "      <td>2016-05-01 04:00</td>\n",
       "      <td>1.046</td>\n",
       "      <td>0.015</td>\n",
       "      <td>0</td>\n",
       "      <td>0</td>\n",
       "    </tr>\n",
       "  </tbody>\n",
       "</table>\n",
       "</div>"
      ],
      "text/plain": [
       "          Date Time   Water Level   Sigma   I   L \n",
       "0  2016-05-01 00:00         1.180   0.012   0    0\n",
       "1  2016-05-01 01:00         1.230   0.022   0    0\n",
       "2  2016-05-01 02:00         1.262   0.016   0    0\n",
       "3  2016-05-01 03:00         1.178   0.018   0    0\n",
       "4  2016-05-01 04:00         1.046   0.015   0    0"
      ]
     },
     "execution_count": 3,
     "metadata": {},
     "output_type": "execute_result"
    }
   ],
   "source": [
    "df.head()"
   ]
  },
  {
   "cell_type": "code",
   "execution_count": 4,
   "metadata": {
    "collapsed": false
   },
   "outputs": [
    {
     "data": {
      "text/plain": [
       "Index(['Date Time', ' Water Level', ' Sigma', ' I', ' L '], dtype='object')"
      ]
     },
     "execution_count": 4,
     "metadata": {},
     "output_type": "execute_result"
    }
   ],
   "source": [
    "df.columns"
   ]
  },
  {
   "cell_type": "code",
   "execution_count": 5,
   "metadata": {
    "collapsed": false
   },
   "outputs": [
    {
     "name": "stderr",
     "output_type": "stream",
     "text": [
      "/opt/anaconda/anaconda3/lib/python3.5/site-packages/numpy/lib/function_base.py:3834: RuntimeWarning: Invalid value encountered in percentile\n",
      "  RuntimeWarning)\n"
     ]
    },
    {
     "data": {
      "text/html": [
       "<div>\n",
       "<table border=\"1\" class=\"dataframe\">\n",
       "  <thead>\n",
       "    <tr style=\"text-align: right;\">\n",
       "      <th></th>\n",
       "      <th>Water Level</th>\n",
       "      <th>Sigma</th>\n",
       "      <th>I</th>\n",
       "      <th>L</th>\n",
       "    </tr>\n",
       "  </thead>\n",
       "  <tbody>\n",
       "    <tr>\n",
       "      <th>count</th>\n",
       "      <td>2208.000000</td>\n",
       "      <td>2200.000000</td>\n",
       "      <td>2208.000000</td>\n",
       "      <td>2208.0</td>\n",
       "    </tr>\n",
       "    <tr>\n",
       "      <th>mean</th>\n",
       "      <td>0.884496</td>\n",
       "      <td>0.011340</td>\n",
       "      <td>0.000906</td>\n",
       "      <td>0.0</td>\n",
       "    </tr>\n",
       "    <tr>\n",
       "      <th>std</th>\n",
       "      <td>0.497515</td>\n",
       "      <td>0.005722</td>\n",
       "      <td>0.030090</td>\n",
       "      <td>0.0</td>\n",
       "    </tr>\n",
       "    <tr>\n",
       "      <th>min</th>\n",
       "      <td>-0.382000</td>\n",
       "      <td>0.000000</td>\n",
       "      <td>0.000000</td>\n",
       "      <td>0.0</td>\n",
       "    </tr>\n",
       "    <tr>\n",
       "      <th>25%</th>\n",
       "      <td>0.568750</td>\n",
       "      <td>NaN</td>\n",
       "      <td>0.000000</td>\n",
       "      <td>0.0</td>\n",
       "    </tr>\n",
       "    <tr>\n",
       "      <th>50%</th>\n",
       "      <td>0.905500</td>\n",
       "      <td>NaN</td>\n",
       "      <td>0.000000</td>\n",
       "      <td>0.0</td>\n",
       "    </tr>\n",
       "    <tr>\n",
       "      <th>75%</th>\n",
       "      <td>1.216000</td>\n",
       "      <td>NaN</td>\n",
       "      <td>0.000000</td>\n",
       "      <td>0.0</td>\n",
       "    </tr>\n",
       "    <tr>\n",
       "      <th>max</th>\n",
       "      <td>2.094000</td>\n",
       "      <td>0.045000</td>\n",
       "      <td>1.000000</td>\n",
       "      <td>0.0</td>\n",
       "    </tr>\n",
       "  </tbody>\n",
       "</table>\n",
       "</div>"
      ],
      "text/plain": [
       "        Water Level        Sigma            I      L \n",
       "count   2208.000000  2200.000000  2208.000000  2208.0\n",
       "mean       0.884496     0.011340     0.000906     0.0\n",
       "std        0.497515     0.005722     0.030090     0.0\n",
       "min       -0.382000     0.000000     0.000000     0.0\n",
       "25%        0.568750          NaN     0.000000     0.0\n",
       "50%        0.905500          NaN     0.000000     0.0\n",
       "75%        1.216000          NaN     0.000000     0.0\n",
       "max        2.094000     0.045000     1.000000     0.0"
      ]
     },
     "execution_count": 5,
     "metadata": {},
     "output_type": "execute_result"
    }
   ],
   "source": [
    "df.describe()"
   ]
  },
  {
   "cell_type": "code",
   "execution_count": 6,
   "metadata": {
    "collapsed": false
   },
   "outputs": [
    {
     "data": {
      "text/plain": [
       "Date Time        object\n",
       " Water Level    float64\n",
       " Sigma          float64\n",
       " I                int64\n",
       " L                int64\n",
       "dtype: object"
      ]
     },
     "execution_count": 6,
     "metadata": {},
     "output_type": "execute_result"
    }
   ],
   "source": [
    "df.dtypes"
   ]
  },
  {
   "cell_type": "code",
   "execution_count": 7,
   "metadata": {
    "collapsed": false
   },
   "outputs": [],
   "source": [
    "df_filtered = df[df[' Water Level'] == 0.03]"
   ]
  },
  {
   "cell_type": "code",
   "execution_count": 8,
   "metadata": {
    "collapsed": false
   },
   "outputs": [
    {
     "data": {
      "text/html": [
       "<div>\n",
       "<table border=\"1\" class=\"dataframe\">\n",
       "  <thead>\n",
       "    <tr style=\"text-align: right;\">\n",
       "      <th></th>\n",
       "      <th>Date Time</th>\n",
       "      <th>Water Level</th>\n",
       "      <th>Sigma</th>\n",
       "      <th>I</th>\n",
       "      <th>L</th>\n",
       "    </tr>\n",
       "  </thead>\n",
       "  <tbody>\n",
       "    <tr>\n",
       "      <th>1473</th>\n",
       "      <td>2016-07-01 09:00</td>\n",
       "      <td>0.03</td>\n",
       "      <td>0.010</td>\n",
       "      <td>0</td>\n",
       "      <td>0</td>\n",
       "    </tr>\n",
       "    <tr>\n",
       "      <th>1858</th>\n",
       "      <td>2016-07-17 10:00</td>\n",
       "      <td>0.03</td>\n",
       "      <td>0.004</td>\n",
       "      <td>0</td>\n",
       "      <td>0</td>\n",
       "    </tr>\n",
       "    <tr>\n",
       "      <th>1884</th>\n",
       "      <td>2016-07-18 12:00</td>\n",
       "      <td>0.03</td>\n",
       "      <td>0.016</td>\n",
       "      <td>0</td>\n",
       "      <td>0</td>\n",
       "    </tr>\n",
       "  </tbody>\n",
       "</table>\n",
       "</div>"
      ],
      "text/plain": [
       "             Date Time   Water Level   Sigma   I   L \n",
       "1473  2016-07-01 09:00          0.03   0.010   0    0\n",
       "1858  2016-07-17 10:00          0.03   0.004   0    0\n",
       "1884  2016-07-18 12:00          0.03   0.016   0    0"
      ]
     },
     "execution_count": 8,
     "metadata": {},
     "output_type": "execute_result"
    }
   ],
   "source": [
    "df_filtered.head()"
   ]
  },
  {
   "cell_type": "code",
   "execution_count": 9,
   "metadata": {
    "collapsed": false
   },
   "outputs": [
    {
     "data": {
      "text/html": [
       "<div>\n",
       "<table border=\"1\" class=\"dataframe\">\n",
       "  <thead>\n",
       "    <tr style=\"text-align: right;\">\n",
       "      <th></th>\n",
       "      <th>Date Time</th>\n",
       "      <th>Water Level</th>\n",
       "      <th>Sigma</th>\n",
       "      <th>I</th>\n",
       "      <th>L</th>\n",
       "    </tr>\n",
       "  </thead>\n",
       "  <tbody>\n",
       "    <tr>\n",
       "      <th>2203</th>\n",
       "      <td>2016-07-31 19:00</td>\n",
       "      <td>0.991</td>\n",
       "      <td>0.007</td>\n",
       "      <td>0</td>\n",
       "      <td>0</td>\n",
       "    </tr>\n",
       "    <tr>\n",
       "      <th>2204</th>\n",
       "      <td>2016-07-31 20:00</td>\n",
       "      <td>0.769</td>\n",
       "      <td>0.009</td>\n",
       "      <td>0</td>\n",
       "      <td>0</td>\n",
       "    </tr>\n",
       "    <tr>\n",
       "      <th>2205</th>\n",
       "      <td>2016-07-31 21:00</td>\n",
       "      <td>0.719</td>\n",
       "      <td>0.005</td>\n",
       "      <td>0</td>\n",
       "      <td>0</td>\n",
       "    </tr>\n",
       "    <tr>\n",
       "      <th>2206</th>\n",
       "      <td>2016-07-31 22:00</td>\n",
       "      <td>0.724</td>\n",
       "      <td>0.007</td>\n",
       "      <td>0</td>\n",
       "      <td>0</td>\n",
       "    </tr>\n",
       "    <tr>\n",
       "      <th>2207</th>\n",
       "      <td>2016-07-31 23:00</td>\n",
       "      <td>0.925</td>\n",
       "      <td>0.013</td>\n",
       "      <td>0</td>\n",
       "      <td>0</td>\n",
       "    </tr>\n",
       "  </tbody>\n",
       "</table>\n",
       "</div>"
      ],
      "text/plain": [
       "             Date Time   Water Level   Sigma   I   L \n",
       "2203  2016-07-31 19:00         0.991   0.007   0    0\n",
       "2204  2016-07-31 20:00         0.769   0.009   0    0\n",
       "2205  2016-07-31 21:00         0.719   0.005   0    0\n",
       "2206  2016-07-31 22:00         0.724   0.007   0    0\n",
       "2207  2016-07-31 23:00         0.925   0.013   0    0"
      ]
     },
     "execution_count": 9,
     "metadata": {},
     "output_type": "execute_result"
    }
   ],
   "source": [
    "df.tail()"
   ]
  },
  {
   "cell_type": "code",
   "execution_count": 10,
   "metadata": {
    "collapsed": false
   },
   "outputs": [],
   "source": [
    "y=df[u' Water Level']\n",
    "x=df[u'Date Time']"
   ]
  },
  {
   "cell_type": "code",
   "execution_count": 11,
   "metadata": {
    "collapsed": false
   },
   "outputs": [
    {
     "data": {
      "image/png": "[encoded data removed]",
      "text/plain": [
       "<matplotlib.figure.Figure at 0x7fc4a887fe80>"
      ]
     },
     "metadata": {},
     "output_type": "display_data"
    }
   ],
   "source": [
    "from scipy.fftpack import fft, fftfreq, fftshift\n",
    "# number of signal points\n",
    "N = 2208\n",
    "# sample spacing\n",
    "T = 1\n",
    "x = df['Date Time']\n",
    "y = df[' Water Level']\n",
    "yf = fft(y)\n",
    "xf = fftfreq(N, T)\n",
    "xf = fftshift(xf)\n",
    "yplot = fftshift(yf)\n",
    "import matplotlib.pyplot as plt\n",
    "plt.plot(xf, 1.0/N * np.abs(yplot))\n",
    "plt.xlim(-0.1,0.1)\n",
    "#plt.text(0.041, 0.2, '$K_1$')\n",
    "#plt.text(0.078, 0.27, '$M_2$')\n",
    "#plt.text(0.082, 0.1, '$N_2$')\n",
    "#plt.text(-0.045, 0.1999999, '$K_1$')\n",
    "#plt.text(-0.085, 0.26, '$M_2$')\n",
    "#plt.xlim(-0.083,-0.084) #12\n",
    "#plt.xlim(-0.083,) \n",
    "plt.grid()\n",
    "plt.ylabel('Altura(m)')\n",
    "plt.title('Santa Barbara, Mayo-Julio 2016')\n",
    "plt.xlabel('Frecuencia (1/hr)')\n",
    "plt.show()"
   ]
  },
  {
   "cell_type": "code",
   "execution_count": 12,
   "metadata": {
    "collapsed": false
   },
   "outputs": [
    {
     "data": {
      "image/png": "[encoded data removed]",
      "text/plain": [
       "<matplotlib.figure.Figure at 0x7fc4a887fd30>"
      ]
     },
     "metadata": {},
     "output_type": "display_data"
    }
   ],
   "source": [
    "#buscando...\n",
    "from scipy.fftpack import fft, fftfreq, fftshift\n",
    "# number of signal points\n",
    "N = 2208\n",
    "# sample spacing\n",
    "T = 1\n",
    "x = df['Date Time']\n",
    "y = df[' Water Level']\n",
    "yf = fft(y)\n",
    "xf = fftfreq(N, T)\n",
    "xf = fftshift(xf)\n",
    "yplot = fftshift(yf)\n",
    "import matplotlib.pyplot as plt\n",
    "plt.plot(xf, 1.0/N * np.abs(yplot))\n",
    "#plt.text(0.0375, 0.1999999, '$N_2$')\n",
    "#plt.text(0.075, 0.25, '$N_2$')\n",
    "#plt.text(-0.04, 0.1999999, '$N_2$')\n",
    "#plt.text(-0.085, 0.26, '$N_2$')\n",
    "#plt.xlim(-0.083,-0.084) #12\n",
    "#plt.xlim(-0.083,) \n",
    "plt.grid()\n",
    "plt.xlim(0.06,0.085)\n",
    "plt.show()"
   ]
  },
  {
   "cell_type": "code",
   "execution_count": 13,
   "metadata": {
    "collapsed": true
   },
   "outputs": [],
   "source": [
    "# M2  0.081\n",
    "\n",
    "# N2  0.079\n"
   ]
  },
  {
   "cell_type": "code",
   "execution_count": 14,
   "metadata": {
    "collapsed": false
   },
   "outputs": [
    {
     "data": {
      "text/plain": [
       "array([ 0.88449638,  0.05637591,  0.0604402 ,  0.183532  ,  0.05928278,\n",
       "        0.06557572,  0.23745292,  0.04693981,  0.07235805,  0.07235805,\n",
       "        0.04693981,  0.23745292,  0.06557572,  0.05928278,  0.183532  ,\n",
       "        0.0604402 ,  0.05637591])"
      ]
     },
     "execution_count": 14,
     "metadata": {},
     "output_type": "execute_result"
    }
   ],
   "source": [
    "#para encontrar las amplitudes\n",
    "A=np.absolute(yf)/N\n",
    "A[A[:,]>.04] "
   ]
  },
  {
   "cell_type": "code",
   "execution_count": 15,
   "metadata": {
    "collapsed": false
   },
   "outputs": [
    {
     "data": {
      "image/png": "[encoded data removed]",
      "text/plain": [
       "<matplotlib.figure.Figure at 0x7fc4a887f518>"
      ]
     },
     "metadata": {},
     "output_type": "display_data"
    }
   ],
   "source": [
    "from scipy.fftpack import fft, fftfreq, fftshift\n",
    "# number of signal points\n",
    "N = 2208\n",
    "# sample spacing\n",
    "T = 1\n",
    "x = df['Date Time']\n",
    "y = df[' Water Level']\n",
    "yf = fft(y)\n",
    "xf = fftfreq(N, T)\n",
    "xf = fftshift(xf)\n",
    "yplot = fftshift(yf)\n",
    "import matplotlib.pyplot as plt\n",
    "plt.plot(xf, 1.0/N * np.abs(yplot))\n",
    "plt.xlim(0.0,0.1)\n",
    "plt.text(0.041, 0.2, '$K_1$')\n",
    "plt.text(0.078, 0.27, '$M_2$')\n",
    "plt.text(0.082, 0.1, '$N_2$')\n",
    "#plt.text(-0.045, 0.1999999, '$K_1$')\n",
    "#plt.text(-0.085, 0.26, '$M_2$')\n",
    "#plt.xlim(-0.083,-0.084) #12\n",
    "#plt.xlim(-0.083,) \n",
    "plt.grid()\n",
    "plt.ylabel('Altura(m)')\n",
    "plt.title('Santa Barbara, Mayo-Julio 2016')\n",
    "plt.xlabel('Frecuencia (1/hr)')\n",
    "plt.show()"
   ]
  },
  {
   "cell_type": "code",
   "execution_count": null,
   "metadata": {
    "collapsed": true
   },
   "outputs": [],
   "source": []
  }
 ],
 "metadata": {
  "anaconda-cloud": {},
  "kernelspec": {
   "display_name": "Python [default]",
   "language": "python",
   "name": "python3"
  },
  "language_info": {
   "codemirror_mode": {
    "name": "ipython",
    "version": 3
   },
   "file_extension": ".py",
   "mimetype": "text/x-python",
   "name": "python",
   "nbconvert_exporter": "python",
   "pygments_lexer": "ipython3",
   "version": "3.5.2"
  }
 },
 "nbformat": 4,
 "nbformat_minor": 1
}
