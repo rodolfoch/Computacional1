{
 "cells": [
  {
   "cell_type": "code",
   "execution_count": 1,
   "metadata": {
    "collapsed": true
   },
   "outputs": [],
   "source": [
    "import pandas as pd\n",
    "import numpy as np\n",
    "import matplotlib.pyplot as mplt\n",
    "import pylab as plt\n",
    "from matplotlib import rc\n",
    "from pylab import figure, show, legend, xlabel, ylabel\n",
    "\n",
    "\n",
    "import statsmodels.api as sm\n",
    "import scipy.stats as stats\n",
    "from scipy.io import loadmat\n"
   ]
  },
  {
   "cell_type": "code",
   "execution_count": 2,
   "metadata": {
    "collapsed": true
   },
   "outputs": [],
   "source": [
    "df = pd.read_csv(\"/home/rodolfoch/Computacional/Actividad5/santa_barbara.csv\")"
   ]
  },
  {
   "cell_type": "code",
   "execution_count": 3,
   "metadata": {
    "collapsed": false
   },
   "outputs": [
    {
     "data": {
      "text/html": [
       "<div>\n",
       "<table border=\"1\" class=\"dataframe\">\n",
       "  <thead>\n",
       "    <tr style=\"text-align: right;\">\n",
       "      <th></th>\n",
       "      <th>Date Time</th>\n",
       "      <th>Water Level</th>\n",
       "      <th>Sigma</th>\n",
       "      <th>O</th>\n",
       "      <th>F</th>\n",
       "      <th>R</th>\n",
       "      <th>L</th>\n",
       "      <th>Quality</th>\n",
       "    </tr>\n",
       "  </thead>\n",
       "  <tbody>\n",
       "    <tr>\n",
       "      <th>0</th>\n",
       "      <td>2016-05-23 00:00</td>\n",
       "      <td>2.067</td>\n",
       "      <td>0.020</td>\n",
       "      <td>0</td>\n",
       "      <td>0</td>\n",
       "      <td>0</td>\n",
       "      <td>0</td>\n",
       "      <td>v</td>\n",
       "    </tr>\n",
       "    <tr>\n",
       "      <th>1</th>\n",
       "      <td>2016-05-23 00:06</td>\n",
       "      <td>2.343</td>\n",
       "      <td>0.033</td>\n",
       "      <td>0</td>\n",
       "      <td>0</td>\n",
       "      <td>0</td>\n",
       "      <td>0</td>\n",
       "      <td>v</td>\n",
       "    </tr>\n",
       "    <tr>\n",
       "      <th>2</th>\n",
       "      <td>2016-05-23 00:12</td>\n",
       "      <td>2.382</td>\n",
       "      <td>0.010</td>\n",
       "      <td>0</td>\n",
       "      <td>0</td>\n",
       "      <td>0</td>\n",
       "      <td>0</td>\n",
       "      <td>v</td>\n",
       "    </tr>\n",
       "    <tr>\n",
       "      <th>3</th>\n",
       "      <td>2016-05-23 00:18</td>\n",
       "      <td>2.238</td>\n",
       "      <td>0.030</td>\n",
       "      <td>0</td>\n",
       "      <td>0</td>\n",
       "      <td>0</td>\n",
       "      <td>0</td>\n",
       "      <td>v</td>\n",
       "    </tr>\n",
       "    <tr>\n",
       "      <th>4</th>\n",
       "      <td>2016-05-23 00:24</td>\n",
       "      <td>2.395</td>\n",
       "      <td>0.059</td>\n",
       "      <td>0</td>\n",
       "      <td>0</td>\n",
       "      <td>0</td>\n",
       "      <td>0</td>\n",
       "      <td>v</td>\n",
       "    </tr>\n",
       "  </tbody>\n",
       "</table>\n",
       "</div>"
      ],
      "text/plain": [
       "          Date Time   Water Level   Sigma   O   F   R   L  Quality \n",
       "0  2016-05-23 00:00         2.067   0.020   0   0   0   0         v\n",
       "1  2016-05-23 00:06         2.343   0.033   0   0   0   0         v\n",
       "2  2016-05-23 00:12         2.382   0.010   0   0   0   0         v\n",
       "3  2016-05-23 00:18         2.238   0.030   0   0   0   0         v\n",
       "4  2016-05-23 00:24         2.395   0.059   0   0   0   0         v"
      ]
     },
     "execution_count": 3,
     "metadata": {},
     "output_type": "execute_result"
    }
   ],
   "source": [
    "df.head()"
   ]
  },
  {
   "cell_type": "code",
   "execution_count": 4,
   "metadata": {
    "collapsed": true
   },
   "outputs": [],
   "source": [
    "df.columns= ['Date Time','WaterLevel','Sigma','O','F','R','L','Quality']"
   ]
  },
  {
   "cell_type": "code",
   "execution_count": 5,
   "metadata": {
    "collapsed": false
   },
   "outputs": [
    {
     "data": {
      "text/html": [
       "<div>\n",
       "<table border=\"1\" class=\"dataframe\">\n",
       "  <thead>\n",
       "    <tr style=\"text-align: right;\">\n",
       "      <th></th>\n",
       "      <th>Date Time</th>\n",
       "      <th>WaterLevel</th>\n",
       "      <th>Sigma</th>\n",
       "      <th>O</th>\n",
       "      <th>F</th>\n",
       "      <th>R</th>\n",
       "      <th>L</th>\n",
       "      <th>Quality</th>\n",
       "    </tr>\n",
       "  </thead>\n",
       "  <tbody>\n",
       "    <tr>\n",
       "      <th>0</th>\n",
       "      <td>2016-05-23 00:00</td>\n",
       "      <td>2.067</td>\n",
       "      <td>0.020</td>\n",
       "      <td>0</td>\n",
       "      <td>0</td>\n",
       "      <td>0</td>\n",
       "      <td>0</td>\n",
       "      <td>v</td>\n",
       "    </tr>\n",
       "    <tr>\n",
       "      <th>1</th>\n",
       "      <td>2016-05-23 00:06</td>\n",
       "      <td>2.343</td>\n",
       "      <td>0.033</td>\n",
       "      <td>0</td>\n",
       "      <td>0</td>\n",
       "      <td>0</td>\n",
       "      <td>0</td>\n",
       "      <td>v</td>\n",
       "    </tr>\n",
       "    <tr>\n",
       "      <th>2</th>\n",
       "      <td>2016-05-23 00:12</td>\n",
       "      <td>2.382</td>\n",
       "      <td>0.010</td>\n",
       "      <td>0</td>\n",
       "      <td>0</td>\n",
       "      <td>0</td>\n",
       "      <td>0</td>\n",
       "      <td>v</td>\n",
       "    </tr>\n",
       "    <tr>\n",
       "      <th>3</th>\n",
       "      <td>2016-05-23 00:18</td>\n",
       "      <td>2.238</td>\n",
       "      <td>0.030</td>\n",
       "      <td>0</td>\n",
       "      <td>0</td>\n",
       "      <td>0</td>\n",
       "      <td>0</td>\n",
       "      <td>v</td>\n",
       "    </tr>\n",
       "    <tr>\n",
       "      <th>4</th>\n",
       "      <td>2016-05-23 00:24</td>\n",
       "      <td>2.395</td>\n",
       "      <td>0.059</td>\n",
       "      <td>0</td>\n",
       "      <td>0</td>\n",
       "      <td>0</td>\n",
       "      <td>0</td>\n",
       "      <td>v</td>\n",
       "    </tr>\n",
       "  </tbody>\n",
       "</table>\n",
       "</div>"
      ],
      "text/plain": [
       "          Date Time  WaterLevel  Sigma  O  F  R  L Quality\n",
       "0  2016-05-23 00:00       2.067  0.020  0  0  0  0       v\n",
       "1  2016-05-23 00:06       2.343  0.033  0  0  0  0       v\n",
       "2  2016-05-23 00:12       2.382  0.010  0  0  0  0       v\n",
       "3  2016-05-23 00:18       2.238  0.030  0  0  0  0       v\n",
       "4  2016-05-23 00:24       2.395  0.059  0  0  0  0       v"
      ]
     },
     "execution_count": 5,
     "metadata": {},
     "output_type": "execute_result"
    }
   ],
   "source": [
    "df.head()"
   ]
  },
  {
   "cell_type": "code",
   "execution_count": 6,
   "metadata": {
    "collapsed": false
   },
   "outputs": [],
   "source": [
    "df=pd.read_csv(\"santa_barbara.csv\", parse_dates=['Date Time'], header=int(0)) #Para que utilice \"Date Time\""
   ]
  },
  {
   "cell_type": "code",
   "execution_count": 7,
   "metadata": {
    "collapsed": false
   },
   "outputs": [
    {
     "data": {
      "text/html": [
       "<div>\n",
       "<table border=\"1\" class=\"dataframe\">\n",
       "  <thead>\n",
       "    <tr style=\"text-align: right;\">\n",
       "      <th></th>\n",
       "      <th>Date Time</th>\n",
       "      <th>Water Level</th>\n",
       "      <th>Sigma</th>\n",
       "      <th>O</th>\n",
       "      <th>F</th>\n",
       "      <th>R</th>\n",
       "      <th>L</th>\n",
       "      <th>Quality</th>\n",
       "    </tr>\n",
       "  </thead>\n",
       "  <tbody>\n",
       "    <tr>\n",
       "      <th>0</th>\n",
       "      <td>2016-05-23 00:00:00</td>\n",
       "      <td>2.067</td>\n",
       "      <td>0.020</td>\n",
       "      <td>0</td>\n",
       "      <td>0</td>\n",
       "      <td>0</td>\n",
       "      <td>0</td>\n",
       "      <td>v</td>\n",
       "    </tr>\n",
       "    <tr>\n",
       "      <th>1</th>\n",
       "      <td>2016-05-23 00:06:00</td>\n",
       "      <td>2.343</td>\n",
       "      <td>0.033</td>\n",
       "      <td>0</td>\n",
       "      <td>0</td>\n",
       "      <td>0</td>\n",
       "      <td>0</td>\n",
       "      <td>v</td>\n",
       "    </tr>\n",
       "    <tr>\n",
       "      <th>2</th>\n",
       "      <td>2016-05-23 00:12:00</td>\n",
       "      <td>2.382</td>\n",
       "      <td>0.010</td>\n",
       "      <td>0</td>\n",
       "      <td>0</td>\n",
       "      <td>0</td>\n",
       "      <td>0</td>\n",
       "      <td>v</td>\n",
       "    </tr>\n",
       "    <tr>\n",
       "      <th>3</th>\n",
       "      <td>2016-05-23 00:18:00</td>\n",
       "      <td>2.238</td>\n",
       "      <td>0.030</td>\n",
       "      <td>0</td>\n",
       "      <td>0</td>\n",
       "      <td>0</td>\n",
       "      <td>0</td>\n",
       "      <td>v</td>\n",
       "    </tr>\n",
       "    <tr>\n",
       "      <th>4</th>\n",
       "      <td>2016-05-23 00:24:00</td>\n",
       "      <td>2.395</td>\n",
       "      <td>0.059</td>\n",
       "      <td>0</td>\n",
       "      <td>0</td>\n",
       "      <td>0</td>\n",
       "      <td>0</td>\n",
       "      <td>v</td>\n",
       "    </tr>\n",
       "  </tbody>\n",
       "</table>\n",
       "</div>"
      ],
      "text/plain": [
       "            Date Time   Water Level   Sigma   O   F   R   L  Quality \n",
       "0 2016-05-23 00:00:00         2.067   0.020   0   0   0   0         v\n",
       "1 2016-05-23 00:06:00         2.343   0.033   0   0   0   0         v\n",
       "2 2016-05-23 00:12:00         2.382   0.010   0   0   0   0         v\n",
       "3 2016-05-23 00:18:00         2.238   0.030   0   0   0   0         v\n",
       "4 2016-05-23 00:24:00         2.395   0.059   0   0   0   0         v"
      ]
     },
     "execution_count": 7,
     "metadata": {},
     "output_type": "execute_result"
    }
   ],
   "source": [
    "df.head()"
   ]
  },
  {
   "cell_type": "code",
   "execution_count": 8,
   "metadata": {
    "collapsed": false
   },
   "outputs": [],
   "source": [
    "df.columns= ['Date time','WaterLevel','Sigma','O','F','R','L','Quality']"
   ]
  },
  {
   "cell_type": "code",
   "execution_count": 9,
   "metadata": {
    "collapsed": false
   },
   "outputs": [
    {
     "data": {
      "text/html": [
       "<div>\n",
       "<table border=\"1\" class=\"dataframe\">\n",
       "  <thead>\n",
       "    <tr style=\"text-align: right;\">\n",
       "      <th></th>\n",
       "      <th>Date time</th>\n",
       "      <th>WaterLevel</th>\n",
       "      <th>Sigma</th>\n",
       "      <th>O</th>\n",
       "      <th>F</th>\n",
       "      <th>R</th>\n",
       "      <th>L</th>\n",
       "      <th>Quality</th>\n",
       "    </tr>\n",
       "  </thead>\n",
       "  <tbody>\n",
       "    <tr>\n",
       "      <th>0</th>\n",
       "      <td>2016-05-23 00:00:00</td>\n",
       "      <td>2.067</td>\n",
       "      <td>0.020</td>\n",
       "      <td>0</td>\n",
       "      <td>0</td>\n",
       "      <td>0</td>\n",
       "      <td>0</td>\n",
       "      <td>v</td>\n",
       "    </tr>\n",
       "    <tr>\n",
       "      <th>1</th>\n",
       "      <td>2016-05-23 00:06:00</td>\n",
       "      <td>2.343</td>\n",
       "      <td>0.033</td>\n",
       "      <td>0</td>\n",
       "      <td>0</td>\n",
       "      <td>0</td>\n",
       "      <td>0</td>\n",
       "      <td>v</td>\n",
       "    </tr>\n",
       "    <tr>\n",
       "      <th>2</th>\n",
       "      <td>2016-05-23 00:12:00</td>\n",
       "      <td>2.382</td>\n",
       "      <td>0.010</td>\n",
       "      <td>0</td>\n",
       "      <td>0</td>\n",
       "      <td>0</td>\n",
       "      <td>0</td>\n",
       "      <td>v</td>\n",
       "    </tr>\n",
       "    <tr>\n",
       "      <th>3</th>\n",
       "      <td>2016-05-23 00:18:00</td>\n",
       "      <td>2.238</td>\n",
       "      <td>0.030</td>\n",
       "      <td>0</td>\n",
       "      <td>0</td>\n",
       "      <td>0</td>\n",
       "      <td>0</td>\n",
       "      <td>v</td>\n",
       "    </tr>\n",
       "    <tr>\n",
       "      <th>4</th>\n",
       "      <td>2016-05-23 00:24:00</td>\n",
       "      <td>2.395</td>\n",
       "      <td>0.059</td>\n",
       "      <td>0</td>\n",
       "      <td>0</td>\n",
       "      <td>0</td>\n",
       "      <td>0</td>\n",
       "      <td>v</td>\n",
       "    </tr>\n",
       "  </tbody>\n",
       "</table>\n",
       "</div>"
      ],
      "text/plain": [
       "            Date time  WaterLevel  Sigma  O  F  R  L Quality\n",
       "0 2016-05-23 00:00:00       2.067  0.020  0  0  0  0       v\n",
       "1 2016-05-23 00:06:00       2.343  0.033  0  0  0  0       v\n",
       "2 2016-05-23 00:12:00       2.382  0.010  0  0  0  0       v\n",
       "3 2016-05-23 00:18:00       2.238  0.030  0  0  0  0       v\n",
       "4 2016-05-23 00:24:00       2.395  0.059  0  0  0  0       v"
      ]
     },
     "execution_count": 9,
     "metadata": {},
     "output_type": "execute_result"
    }
   ],
   "source": [
    "df.head()"
   ]
  },
  {
   "cell_type": "code",
   "execution_count": 10,
   "metadata": {
    "collapsed": false
   },
   "outputs": [],
   "source": [
    "x=df[u'Date time']\n",
    "y=df[u'WaterLevel']\n"
   ]
  },
  {
   "cell_type": "code",
   "execution_count": 13,
   "metadata": {
    "collapsed": false
   },
   "outputs": [
    {
     "data": {
      "text/plain": [
       "[<matplotlib.lines.Line2D at 0x7f1239d44630>]"
      ]
     },
     "execution_count": 13,
     "metadata": {},
     "output_type": "execute_result"
    }
   ],
   "source": [
    "mplt.plot(x,y)\n",
    "mplt.grid(True)\n",
    "plt.xlabel('Día')\n",
    "plt.ylabel('Altura')\n",
    "plt.title('Santa Barbara, California. Mayo 23- Junio 23 del 2016')\n",
    "plt.plot(x,y, color='blue')"
   ]
  },
  {
   "cell_type": "code",
   "execution_count": 14,
   "metadata": {
    "collapsed": false
   },
   "outputs": [
    {
     "data": {
      "image/png": "[encoded data removed]",
      "text/plain": [
       "<matplotlib.figure.Figure at 0x7f1239d44978>"
      ]
     },
     "metadata": {},
     "output_type": "display_data"
    }
   ],
   "source": [
    "plt.show()"
   ]
  },
  {
   "cell_type": "code",
   "execution_count": null,
   "metadata": {
    "collapsed": true
   },
   "outputs": [],
   "source": []
  }
 ],
 "metadata": {
  "anaconda-cloud": {},
  "kernelspec": {
   "display_name": "Python [default]",
   "language": "python",
   "name": "python3"
  },
  "language_info": {
   "codemirror_mode": {
    "name": "ipython",
    "version": 3
   },
   "file_extension": ".py",
   "mimetype": "text/x-python",
   "name": "python",
   "nbconvert_exporter": "python",
   "pygments_lexer": "ipython3",
   "version": "3.5.2"
  }
 },
 "nbformat": 4,
 "nbformat_minor": 1
}
