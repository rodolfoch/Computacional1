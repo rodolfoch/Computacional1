{
 "cells": [
  {
   "cell_type": "code",
   "execution_count": 1,
   "metadata": {
    "collapsed": true
   },
   "outputs": [],
   "source": [
    "import pandas as pd\n",
    "import numpy as np\n",
    "import matplotlib.pyplot as mplt\n",
    "import pylab as plt\n",
    "from matplotlib import rc\n",
    "from pylab import figure, show, legend, xlabel, ylabel\n",
    "\n",
    "\n",
    "import statsmodels.api as sm\n",
    "import scipy.stats as stats\n",
    "from scipy.io import loadmat"
   ]
  },
  {
   "cell_type": "code",
   "execution_count": 2,
   "metadata": {
    "collapsed": true
   },
   "outputs": [],
   "source": [
    "df = pd.read_csv(\"/home/rodolfoch/Computacional/Eval2/nasa1.csv\",skiprows=0)"
   ]
  },
  {
   "cell_type": "code",
   "execution_count": 3,
   "metadata": {
    "collapsed": false
   },
   "outputs": [
    {
     "data": {
      "text/html": [
       "<div>\n",
       "<table border=\"1\" class=\"dataframe\">\n",
       "  <thead>\n",
       "    <tr style=\"text-align: right;\">\n",
       "      <th></th>\n",
       "      <th>a</th>\n",
       "      <th>b</th>\n",
       "      <th>c</th>\n",
       "      <th>d</th>\n",
       "      <th>e</th>\n",
       "      <th>f</th>\n",
       "      <th>g</th>\n",
       "    </tr>\n",
       "  </thead>\n",
       "  <tbody>\n",
       "    <tr>\n",
       "      <th>0</th>\n",
       "      <td>1749</td>\n",
       "      <td>1</td>\n",
       "      <td>1749.042</td>\n",
       "      <td>96.7</td>\n",
       "      <td>-1.0</td>\n",
       "      <td>-1</td>\n",
       "      <td>NaN</td>\n",
       "    </tr>\n",
       "    <tr>\n",
       "      <th>1</th>\n",
       "      <td>1749</td>\n",
       "      <td>2</td>\n",
       "      <td>1749.123</td>\n",
       "      <td>104.3</td>\n",
       "      <td>-1.0</td>\n",
       "      <td>-1</td>\n",
       "      <td>NaN</td>\n",
       "    </tr>\n",
       "    <tr>\n",
       "      <th>2</th>\n",
       "      <td>1749</td>\n",
       "      <td>3</td>\n",
       "      <td>1749.204</td>\n",
       "      <td>116.7</td>\n",
       "      <td>-1.0</td>\n",
       "      <td>-1</td>\n",
       "      <td>NaN</td>\n",
       "    </tr>\n",
       "    <tr>\n",
       "      <th>3</th>\n",
       "      <td>1749</td>\n",
       "      <td>4</td>\n",
       "      <td>1749.288</td>\n",
       "      <td>92.8</td>\n",
       "      <td>-1.0</td>\n",
       "      <td>-1</td>\n",
       "      <td>NaN</td>\n",
       "    </tr>\n",
       "    <tr>\n",
       "      <th>4</th>\n",
       "      <td>1749</td>\n",
       "      <td>5</td>\n",
       "      <td>1749.371</td>\n",
       "      <td>141.7</td>\n",
       "      <td>-1.0</td>\n",
       "      <td>-1</td>\n",
       "      <td>NaN</td>\n",
       "    </tr>\n",
       "  </tbody>\n",
       "</table>\n",
       "</div>"
      ],
      "text/plain": [
       "      a  b         c      d    e  f   g\n",
       "0  1749  1  1749.042   96.7 -1.0 -1 NaN\n",
       "1  1749  2  1749.123  104.3 -1.0 -1 NaN\n",
       "2  1749  3  1749.204  116.7 -1.0 -1 NaN\n",
       "3  1749  4  1749.288   92.8 -1.0 -1 NaN\n",
       "4  1749  5  1749.371  141.7 -1.0 -1 NaN"
      ]
     },
     "execution_count": 3,
     "metadata": {},
     "output_type": "execute_result"
    }
   ],
   "source": [
    "df.head()"
   ]
  },
  {
   "cell_type": "code",
   "execution_count": 4,
   "metadata": {
    "collapsed": false
   },
   "outputs": [],
   "source": [
    "df.columns= ['Año','mes','Ames','manchas','nlcs1','nñcs2','nada']"
   ]
  },
  {
   "cell_type": "code",
   "execution_count": 5,
   "metadata": {
    "collapsed": false
   },
   "outputs": [
    {
     "data": {
      "text/html": [
       "<div>\n",
       "<table border=\"1\" class=\"dataframe\">\n",
       "  <thead>\n",
       "    <tr style=\"text-align: right;\">\n",
       "      <th></th>\n",
       "      <th>Año</th>\n",
       "      <th>mes</th>\n",
       "      <th>Ames</th>\n",
       "      <th>manchas</th>\n",
       "      <th>nlcs1</th>\n",
       "      <th>nñcs2</th>\n",
       "      <th>nada</th>\n",
       "    </tr>\n",
       "  </thead>\n",
       "  <tbody>\n",
       "    <tr>\n",
       "      <th>0</th>\n",
       "      <td>1749</td>\n",
       "      <td>1</td>\n",
       "      <td>1749.042</td>\n",
       "      <td>96.7</td>\n",
       "      <td>-1.0</td>\n",
       "      <td>-1</td>\n",
       "      <td>NaN</td>\n",
       "    </tr>\n",
       "    <tr>\n",
       "      <th>1</th>\n",
       "      <td>1749</td>\n",
       "      <td>2</td>\n",
       "      <td>1749.123</td>\n",
       "      <td>104.3</td>\n",
       "      <td>-1.0</td>\n",
       "      <td>-1</td>\n",
       "      <td>NaN</td>\n",
       "    </tr>\n",
       "    <tr>\n",
       "      <th>2</th>\n",
       "      <td>1749</td>\n",
       "      <td>3</td>\n",
       "      <td>1749.204</td>\n",
       "      <td>116.7</td>\n",
       "      <td>-1.0</td>\n",
       "      <td>-1</td>\n",
       "      <td>NaN</td>\n",
       "    </tr>\n",
       "    <tr>\n",
       "      <th>3</th>\n",
       "      <td>1749</td>\n",
       "      <td>4</td>\n",
       "      <td>1749.288</td>\n",
       "      <td>92.8</td>\n",
       "      <td>-1.0</td>\n",
       "      <td>-1</td>\n",
       "      <td>NaN</td>\n",
       "    </tr>\n",
       "    <tr>\n",
       "      <th>4</th>\n",
       "      <td>1749</td>\n",
       "      <td>5</td>\n",
       "      <td>1749.371</td>\n",
       "      <td>141.7</td>\n",
       "      <td>-1.0</td>\n",
       "      <td>-1</td>\n",
       "      <td>NaN</td>\n",
       "    </tr>\n",
       "    <tr>\n",
       "      <th>5</th>\n",
       "      <td>1749</td>\n",
       "      <td>6</td>\n",
       "      <td>1749.455</td>\n",
       "      <td>139.2</td>\n",
       "      <td>-1.0</td>\n",
       "      <td>-1</td>\n",
       "      <td>NaN</td>\n",
       "    </tr>\n",
       "    <tr>\n",
       "      <th>6</th>\n",
       "      <td>1749</td>\n",
       "      <td>7</td>\n",
       "      <td>1749.538</td>\n",
       "      <td>158.0</td>\n",
       "      <td>-1.0</td>\n",
       "      <td>-1</td>\n",
       "      <td>NaN</td>\n",
       "    </tr>\n",
       "    <tr>\n",
       "      <th>7</th>\n",
       "      <td>1749</td>\n",
       "      <td>8</td>\n",
       "      <td>1749.623</td>\n",
       "      <td>110.5</td>\n",
       "      <td>-1.0</td>\n",
       "      <td>-1</td>\n",
       "      <td>NaN</td>\n",
       "    </tr>\n",
       "    <tr>\n",
       "      <th>8</th>\n",
       "      <td>1749</td>\n",
       "      <td>9</td>\n",
       "      <td>1749.707</td>\n",
       "      <td>126.5</td>\n",
       "      <td>-1.0</td>\n",
       "      <td>-1</td>\n",
       "      <td>NaN</td>\n",
       "    </tr>\n",
       "    <tr>\n",
       "      <th>9</th>\n",
       "      <td>1749</td>\n",
       "      <td>10</td>\n",
       "      <td>1749.790</td>\n",
       "      <td>125.8</td>\n",
       "      <td>-1.0</td>\n",
       "      <td>-1</td>\n",
       "      <td>NaN</td>\n",
       "    </tr>\n",
       "    <tr>\n",
       "      <th>10</th>\n",
       "      <td>1749</td>\n",
       "      <td>11</td>\n",
       "      <td>1749.874</td>\n",
       "      <td>264.3</td>\n",
       "      <td>-1.0</td>\n",
       "      <td>-1</td>\n",
       "      <td>NaN</td>\n",
       "    </tr>\n",
       "    <tr>\n",
       "      <th>11</th>\n",
       "      <td>1749</td>\n",
       "      <td>12</td>\n",
       "      <td>1749.958</td>\n",
       "      <td>142.0</td>\n",
       "      <td>-1.0</td>\n",
       "      <td>-1</td>\n",
       "      <td>NaN</td>\n",
       "    </tr>\n",
       "    <tr>\n",
       "      <th>12</th>\n",
       "      <td>1750</td>\n",
       "      <td>1</td>\n",
       "      <td>1750.042</td>\n",
       "      <td>122.2</td>\n",
       "      <td>-1.0</td>\n",
       "      <td>-1</td>\n",
       "      <td>NaN</td>\n",
       "    </tr>\n",
       "    <tr>\n",
       "      <th>13</th>\n",
       "      <td>1750</td>\n",
       "      <td>2</td>\n",
       "      <td>1750.123</td>\n",
       "      <td>126.5</td>\n",
       "      <td>-1.0</td>\n",
       "      <td>-1</td>\n",
       "      <td>NaN</td>\n",
       "    </tr>\n",
       "    <tr>\n",
       "      <th>14</th>\n",
       "      <td>1750</td>\n",
       "      <td>3</td>\n",
       "      <td>1750.204</td>\n",
       "      <td>148.7</td>\n",
       "      <td>-1.0</td>\n",
       "      <td>-1</td>\n",
       "      <td>NaN</td>\n",
       "    </tr>\n",
       "    <tr>\n",
       "      <th>15</th>\n",
       "      <td>1750</td>\n",
       "      <td>4</td>\n",
       "      <td>1750.288</td>\n",
       "      <td>147.2</td>\n",
       "      <td>-1.0</td>\n",
       "      <td>-1</td>\n",
       "      <td>NaN</td>\n",
       "    </tr>\n",
       "    <tr>\n",
       "      <th>16</th>\n",
       "      <td>1750</td>\n",
       "      <td>5</td>\n",
       "      <td>1750.371</td>\n",
       "      <td>150.0</td>\n",
       "      <td>-1.0</td>\n",
       "      <td>-1</td>\n",
       "      <td>NaN</td>\n",
       "    </tr>\n",
       "    <tr>\n",
       "      <th>17</th>\n",
       "      <td>1750</td>\n",
       "      <td>6</td>\n",
       "      <td>1750.455</td>\n",
       "      <td>166.7</td>\n",
       "      <td>-1.0</td>\n",
       "      <td>-1</td>\n",
       "      <td>NaN</td>\n",
       "    </tr>\n",
       "    <tr>\n",
       "      <th>18</th>\n",
       "      <td>1750</td>\n",
       "      <td>7</td>\n",
       "      <td>1750.538</td>\n",
       "      <td>142.3</td>\n",
       "      <td>-1.0</td>\n",
       "      <td>-1</td>\n",
       "      <td>NaN</td>\n",
       "    </tr>\n",
       "    <tr>\n",
       "      <th>19</th>\n",
       "      <td>1750</td>\n",
       "      <td>8</td>\n",
       "      <td>1750.623</td>\n",
       "      <td>171.7</td>\n",
       "      <td>-1.0</td>\n",
       "      <td>-1</td>\n",
       "      <td>NaN</td>\n",
       "    </tr>\n",
       "    <tr>\n",
       "      <th>20</th>\n",
       "      <td>1750</td>\n",
       "      <td>9</td>\n",
       "      <td>1750.707</td>\n",
       "      <td>152.0</td>\n",
       "      <td>-1.0</td>\n",
       "      <td>-1</td>\n",
       "      <td>NaN</td>\n",
       "    </tr>\n",
       "    <tr>\n",
       "      <th>21</th>\n",
       "      <td>1750</td>\n",
       "      <td>10</td>\n",
       "      <td>1750.790</td>\n",
       "      <td>109.5</td>\n",
       "      <td>-1.0</td>\n",
       "      <td>-1</td>\n",
       "      <td>NaN</td>\n",
       "    </tr>\n",
       "    <tr>\n",
       "      <th>22</th>\n",
       "      <td>1750</td>\n",
       "      <td>11</td>\n",
       "      <td>1750.874</td>\n",
       "      <td>105.5</td>\n",
       "      <td>-1.0</td>\n",
       "      <td>-1</td>\n",
       "      <td>NaN</td>\n",
       "    </tr>\n",
       "    <tr>\n",
       "      <th>23</th>\n",
       "      <td>1750</td>\n",
       "      <td>12</td>\n",
       "      <td>1750.958</td>\n",
       "      <td>125.7</td>\n",
       "      <td>-1.0</td>\n",
       "      <td>-1</td>\n",
       "      <td>NaN</td>\n",
       "    </tr>\n",
       "    <tr>\n",
       "      <th>24</th>\n",
       "      <td>1751</td>\n",
       "      <td>1</td>\n",
       "      <td>1751.042</td>\n",
       "      <td>116.7</td>\n",
       "      <td>-1.0</td>\n",
       "      <td>-1</td>\n",
       "      <td>NaN</td>\n",
       "    </tr>\n",
       "    <tr>\n",
       "      <th>25</th>\n",
       "      <td>1751</td>\n",
       "      <td>2</td>\n",
       "      <td>1751.123</td>\n",
       "      <td>72.5</td>\n",
       "      <td>-1.0</td>\n",
       "      <td>-1</td>\n",
       "      <td>NaN</td>\n",
       "    </tr>\n",
       "    <tr>\n",
       "      <th>26</th>\n",
       "      <td>1751</td>\n",
       "      <td>3</td>\n",
       "      <td>1751.204</td>\n",
       "      <td>75.5</td>\n",
       "      <td>-1.0</td>\n",
       "      <td>-1</td>\n",
       "      <td>NaN</td>\n",
       "    </tr>\n",
       "    <tr>\n",
       "      <th>27</th>\n",
       "      <td>1751</td>\n",
       "      <td>4</td>\n",
       "      <td>1751.288</td>\n",
       "      <td>94.0</td>\n",
       "      <td>-1.0</td>\n",
       "      <td>-1</td>\n",
       "      <td>NaN</td>\n",
       "    </tr>\n",
       "    <tr>\n",
       "      <th>28</th>\n",
       "      <td>1751</td>\n",
       "      <td>5</td>\n",
       "      <td>1751.371</td>\n",
       "      <td>101.2</td>\n",
       "      <td>-1.0</td>\n",
       "      <td>-1</td>\n",
       "      <td>NaN</td>\n",
       "    </tr>\n",
       "    <tr>\n",
       "      <th>29</th>\n",
       "      <td>1751</td>\n",
       "      <td>6</td>\n",
       "      <td>1751.455</td>\n",
       "      <td>84.5</td>\n",
       "      <td>-1.0</td>\n",
       "      <td>-1</td>\n",
       "      <td>NaN</td>\n",
       "    </tr>\n",
       "  </tbody>\n",
       "</table>\n",
       "</div>"
      ],
      "text/plain": [
       "     Año  mes      Ames  manchas  nlcs1  nñcs2  nada\n",
       "0   1749    1  1749.042     96.7   -1.0     -1   NaN\n",
       "1   1749    2  1749.123    104.3   -1.0     -1   NaN\n",
       "2   1749    3  1749.204    116.7   -1.0     -1   NaN\n",
       "3   1749    4  1749.288     92.8   -1.0     -1   NaN\n",
       "4   1749    5  1749.371    141.7   -1.0     -1   NaN\n",
       "5   1749    6  1749.455    139.2   -1.0     -1   NaN\n",
       "6   1749    7  1749.538    158.0   -1.0     -1   NaN\n",
       "7   1749    8  1749.623    110.5   -1.0     -1   NaN\n",
       "8   1749    9  1749.707    126.5   -1.0     -1   NaN\n",
       "9   1749   10  1749.790    125.8   -1.0     -1   NaN\n",
       "10  1749   11  1749.874    264.3   -1.0     -1   NaN\n",
       "11  1749   12  1749.958    142.0   -1.0     -1   NaN\n",
       "12  1750    1  1750.042    122.2   -1.0     -1   NaN\n",
       "13  1750    2  1750.123    126.5   -1.0     -1   NaN\n",
       "14  1750    3  1750.204    148.7   -1.0     -1   NaN\n",
       "15  1750    4  1750.288    147.2   -1.0     -1   NaN\n",
       "16  1750    5  1750.371    150.0   -1.0     -1   NaN\n",
       "17  1750    6  1750.455    166.7   -1.0     -1   NaN\n",
       "18  1750    7  1750.538    142.3   -1.0     -1   NaN\n",
       "19  1750    8  1750.623    171.7   -1.0     -1   NaN\n",
       "20  1750    9  1750.707    152.0   -1.0     -1   NaN\n",
       "21  1750   10  1750.790    109.5   -1.0     -1   NaN\n",
       "22  1750   11  1750.874    105.5   -1.0     -1   NaN\n",
       "23  1750   12  1750.958    125.7   -1.0     -1   NaN\n",
       "24  1751    1  1751.042    116.7   -1.0     -1   NaN\n",
       "25  1751    2  1751.123     72.5   -1.0     -1   NaN\n",
       "26  1751    3  1751.204     75.5   -1.0     -1   NaN\n",
       "27  1751    4  1751.288     94.0   -1.0     -1   NaN\n",
       "28  1751    5  1751.371    101.2   -1.0     -1   NaN\n",
       "29  1751    6  1751.455     84.5   -1.0     -1   NaN"
      ]
     },
     "execution_count": 5,
     "metadata": {},
     "output_type": "execute_result"
    }
   ],
   "source": [
    "df.head(30)"
   ]
  },
  {
   "cell_type": "code",
   "execution_count": 6,
   "metadata": {
    "collapsed": false
   },
   "outputs": [
    {
     "data": {
      "text/html": [
       "<div>\n",
       "<table border=\"1\" class=\"dataframe\">\n",
       "  <thead>\n",
       "    <tr style=\"text-align: right;\">\n",
       "      <th></th>\n",
       "      <th>Año</th>\n",
       "      <th>mes</th>\n",
       "      <th>Ames</th>\n",
       "      <th>manchas</th>\n",
       "      <th>nlcs1</th>\n",
       "      <th>nñcs2</th>\n",
       "      <th>nada</th>\n",
       "    </tr>\n",
       "  </thead>\n",
       "  <tbody>\n",
       "    <tr>\n",
       "      <th>3208</th>\n",
       "      <td>2016</td>\n",
       "      <td>5</td>\n",
       "      <td>2016.373</td>\n",
       "      <td>52.1</td>\n",
       "      <td>4.7</td>\n",
       "      <td>810</td>\n",
       "      <td>NaN</td>\n",
       "    </tr>\n",
       "    <tr>\n",
       "      <th>3209</th>\n",
       "      <td>2016</td>\n",
       "      <td>6</td>\n",
       "      <td>2016.456</td>\n",
       "      <td>20.9</td>\n",
       "      <td>2.2</td>\n",
       "      <td>886</td>\n",
       "      <td>NaN</td>\n",
       "    </tr>\n",
       "    <tr>\n",
       "      <th>3210</th>\n",
       "      <td>2016</td>\n",
       "      <td>7</td>\n",
       "      <td>2016.540</td>\n",
       "      <td>32.5</td>\n",
       "      <td>3.7</td>\n",
       "      <td>910</td>\n",
       "      <td>NaN</td>\n",
       "    </tr>\n",
       "    <tr>\n",
       "      <th>3211</th>\n",
       "      <td>2016</td>\n",
       "      <td>8</td>\n",
       "      <td>2016.624</td>\n",
       "      <td>50.7</td>\n",
       "      <td>4.4</td>\n",
       "      <td>879</td>\n",
       "      <td>NaN</td>\n",
       "    </tr>\n",
       "    <tr>\n",
       "      <th>3212</th>\n",
       "      <td>2016</td>\n",
       "      <td>9</td>\n",
       "      <td>2016.708</td>\n",
       "      <td>44.7</td>\n",
       "      <td>3.8</td>\n",
       "      <td>742</td>\n",
       "      <td>NaN</td>\n",
       "    </tr>\n",
       "  </tbody>\n",
       "</table>\n",
       "</div>"
      ],
      "text/plain": [
       "       Año  mes      Ames  manchas  nlcs1  nñcs2  nada\n",
       "3208  2016    5  2016.373     52.1    4.7    810   NaN\n",
       "3209  2016    6  2016.456     20.9    2.2    886   NaN\n",
       "3210  2016    7  2016.540     32.5    3.7    910   NaN\n",
       "3211  2016    8  2016.624     50.7    4.4    879   NaN\n",
       "3212  2016    9  2016.708     44.7    3.8    742   NaN"
      ]
     },
     "execution_count": 6,
     "metadata": {},
     "output_type": "execute_result"
    }
   ],
   "source": [
    "df.tail()"
   ]
  },
  {
   "cell_type": "code",
   "execution_count": null,
   "metadata": {
    "collapsed": false
   },
   "outputs": [],
   "source": []
  },
  {
   "cell_type": "code",
   "execution_count": null,
   "metadata": {
    "collapsed": false
   },
   "outputs": [],
   "source": []
  },
  {
   "cell_type": "code",
   "execution_count": null,
   "metadata": {
    "collapsed": false
   },
   "outputs": [],
   "source": []
  },
  {
   "cell_type": "code",
   "execution_count": null,
   "metadata": {
    "collapsed": false
   },
   "outputs": [],
   "source": []
  },
  {
   "cell_type": "code",
   "execution_count": 7,
   "metadata": {
    "collapsed": false
   },
   "outputs": [
    {
     "data": {
      "text/plain": [
       "Año          int64\n",
       "mes          int64\n",
       "Ames       float64\n",
       "manchas    float64\n",
       "nlcs1      float64\n",
       "nñcs2        int64\n",
       "nada       float64\n",
       "dtype: object"
      ]
     },
     "execution_count": 7,
     "metadata": {},
     "output_type": "execute_result"
    }
   ],
   "source": [
    "df.dtypes"
   ]
  },
  {
   "cell_type": "code",
   "execution_count": 8,
   "metadata": {
    "collapsed": false
   },
   "outputs": [
    {
     "data": {
      "image/png": "[encoded data removed]",
      "text/plain": [
       "<matplotlib.figure.Figure at 0x7f882cc4ecc0>"
      ]
     },
     "metadata": {},
     "output_type": "display_data"
    }
   ],
   "source": [
    "from scipy.fftpack import fft, fftfreq, fftshift\n",
    "import numpy as np\n",
    "# numero de datos\n",
    "N_d = 3213\n",
    "# Separacion de tiempo entre cada medicion\n",
    "T_d = 1\n",
    "#aplicacion de la transformada de Fourier\n",
    "\n",
    "x_hr=df['Ames']\n",
    "y_hr = df[\"manchas\"] \n",
    "yf_hr = fft(y_hr)\n",
    "#Cambio de variable de tiempo a uno de frecuencias.\n",
    "xf_hr = fftfreq(N_d, T_d)\n",
    "xf_hr = fftshift(xf_hr)\n",
    "# Conjunto de datos dados por la transformada de fourier para graficar\n",
    "yplot_hr = fftshift(yf_hr)\n",
    "\n",
    "#grafica de lo obtenido con la transformada de Fourier\n",
    "import matplotlib.pyplot as plt\n",
    "graf = plt.plot(xf_hr, 2.0/N_d *abs(yplot_hr), 'r-')\n",
    "plt.xlim(-0.01,0.1)\n",
    "plt.grid(True)\n",
    "\n",
    "plt.xlabel('Frecuencia [1/mes]', fontsize=14)\n",
    "plt.ylabel('Manchas solares promedio', fontsize=14)\n",
    "#plt.title(, fontsize=15)\n",
    "\n",
    "\n",
    "#Calando a ver si jala\n",
    "\n",
    "plt.text(0.00746965452848, 39.9872332086, '$A$')\n",
    "plt.text(0.00715841892312, 22.6781521056, '$D$')\n",
    "\n",
    "plt.text(0.00778089013383, 35.4198320032, '$B$')\n",
    "\n",
    "plt.text(0.00840336134454,30.9080378809 , '$C$')\n",
    "\n",
    "plt.xlim(0.0,0.02)\n",
    "fig = plt.gcf()\n",
    "fig.set_size_inches(15, 8)\n",
    "plt.show()"
   ]
  },
  {
   "cell_type": "code",
   "execution_count": 9,
   "metadata": {
    "collapsed": true
   },
   "outputs": [],
   "source": [
    "a = 2*np.absolute(yf_hr)/N_d #N_d es el numero de datos especificado en donde se trabajó con la transformada rapida de fourier"
   ]
  },
  {
   "cell_type": "code",
   "execution_count": 10,
   "metadata": {
    "collapsed": false
   },
   "outputs": [
    {
     "name": "stdout",
     "output_type": "stream",
     "text": [
      "(array([   0,    1,    2,    3,    4,    5,   18,   19,   22,   23,   24,\n",
      "         25,   26,   27,   28,   29,   30,   32,   33,   49, 3164, 3180,\n",
      "       3181, 3183, 3184, 3185, 3186, 3187, 3188, 3189, 3190, 3191, 3194,\n",
      "       3195, 3208, 3209, 3210, 3211, 3212]),)\n"
     ]
    },
    {
     "data": {
      "text/plain": [
       "array([ 165.84712107,   12.2404616 ,   11.62644929,   22.79918361,\n",
       "         15.28281214,   13.73590511,   10.24940903,   13.06489499,\n",
       "         12.50737479,   22.67815211,   39.98723321,   35.419832  ,\n",
       "         13.56290861,   30.90803788,   10.73240059,   14.12154193,\n",
       "         12.90840658,   10.55344184,   14.6282459 ,   10.17270309,\n",
       "         10.17270309,   14.6282459 ,   10.55344184,   12.90840658,\n",
       "         14.12154193,   10.73240059,   30.90803788,   13.56290861,\n",
       "         35.419832  ,   39.98723321,   22.67815211,   12.50737479,\n",
       "         13.06489499,   10.24940903,   13.73590511,   15.28281214,\n",
       "         22.79918361,   11.62644929,   12.2404616 ])"
      ]
     },
     "execution_count": 10,
     "metadata": {},
     "output_type": "execute_result"
    }
   ],
   "source": [
    "print(np.where(a[:,]>10)) ##\n",
    "b= a[a[:,]>10]\n",
    "b"
   ]
  },
  {
   "cell_type": "code",
   "execution_count": 11,
   "metadata": {
    "collapsed": false
   },
   "outputs": [
    {
     "name": "stdout",
     "output_type": "stream",
     "text": [
      "A\n",
      "Amplitud= 39.9872332086\n",
      "frecuencia= 0.00746965452848\n",
      "periodo= 133.875\n",
      "\n"
     ]
    }
   ],
   "source": [
    "#deobo obtener un periodo de 132 meses (que le corresponden 11 años)  , que se pasará a años dividiendo por 12 meses\n",
    "print( 'A')\n",
    "print('Amplitud=',2.0*np.absolute(yf_hr[24,]/N_d))\n",
    "print('frecuencia=', xf_hr[int(N_d/2 +24),])\n",
    "print('periodo=', 1/xf_hr[int(N_d/2 +24),])\n",
    "print()\n",
    "\n",
    "\n",
    "#modo A\n",
    "\n",
    "# dividir el periodo entre 12 meses\n",
    "#11.15"
   ]
  },
  {
   "cell_type": "code",
   "execution_count": 12,
   "metadata": {
    "collapsed": false
   },
   "outputs": [
    {
     "name": "stdout",
     "output_type": "stream",
     "text": [
      "D\n",
      "Amplitud= 22.6781521056\n",
      "frecuencia= 0.00715841892312\n",
      "periodo= 139.695652174\n",
      "\n"
     ]
    }
   ],
   "source": [
    "#D\n",
    "print( 'D')\n",
    "print('Amplitud=',2.0*np.absolute(yf_hr[23,]/N_d))\n",
    "print('frecuencia=', xf_hr[int(N_d/2 +23),])\n",
    "print('periodo=', 1/xf_hr[int(N_d/2 +23),])\n",
    "print()\n",
    "\n",
    "#11.64"
   ]
  },
  {
   "cell_type": "code",
   "execution_count": 13,
   "metadata": {
    "collapsed": false
   },
   "outputs": [
    {
     "name": "stdout",
     "output_type": "stream",
     "text": [
      "B\n",
      "Amplitud= 35.4198320032\n",
      "frecuencia= 0.00778089013383\n",
      "periodo= 128.52\n",
      "\n"
     ]
    }
   ],
   "source": [
    "#B\n",
    "print( 'B')\n",
    "print('Amplitud=',2.0*np.absolute(yf_hr[25,]/N_d))\n",
    "print('frecuencia=', xf_hr[int(N_d/2 +25),])\n",
    "print('periodo=', 1/xf_hr[int(N_d/2 +25),])\n",
    "print()\n",
    "\n",
    "#10.71"
   ]
  },
  {
   "cell_type": "code",
   "execution_count": 14,
   "metadata": {
    "collapsed": false
   },
   "outputs": [
    {
     "name": "stdout",
     "output_type": "stream",
     "text": [
      "C\n",
      "Amplitud= 30.9080378809\n",
      "frecuencia= 0.00840336134454\n",
      "periodo= 119.0\n",
      "\n"
     ]
    }
   ],
   "source": [
    "#C\n",
    "print( 'C')\n",
    "print('Amplitud=',2.0*np.absolute(yf_hr[27,]/N_d))\n",
    "print('frecuencia=', xf_hr[int(N_d/2 +27),])\n",
    "print('periodo=', 1/xf_hr[int(N_d/2 +27),])\n",
    "print()\n",
    "\n",
    "#"
   ]
  },
  {
   "cell_type": "code",
   "execution_count": 15,
   "metadata": {
    "collapsed": false
   },
   "outputs": [
    {
     "data": {
      "image/png": "[encoded data removed]",
      "text/plain": [
       "<matplotlib.figure.Figure at 0x7f882cc4ea20>"
      ]
     },
     "metadata": {},
     "output_type": "display_data"
    }
   ],
   "source": [
    "#esto es nomas para ver si se parecía\n",
    "\n",
    "x=df[u'Ames']\n",
    "y=df[u'manchas']\n",
    "#mplt.plot(x,y)\n",
    "#mplt.grid(True)\n",
    "plt.xlabel('')\n",
    "plt.ylabel('T')\n",
    "plt.title('T')\n",
    "plt.plot(x,y, color='black')\n",
    "\n",
    "plt.xlim(1985,2020)\n",
    "\n",
    "plt.show()"
   ]
  },
  {
   "cell_type": "code",
   "execution_count": null,
   "metadata": {
    "collapsed": true
   },
   "outputs": [],
   "source": []
  }
 ],
 "metadata": {
  "anaconda-cloud": {},
  "kernelspec": {
   "display_name": "Python [default]",
   "language": "python",
   "name": "python3"
  },
  "language_info": {
   "codemirror_mode": {
    "name": "ipython",
    "version": 3
   },
   "file_extension": ".py",
   "mimetype": "text/x-python",
   "name": "python",
   "nbconvert_exporter": "python",
   "pygments_lexer": "ipython3",
   "version": "3.5.2"
  }
 },
 "nbformat": 4,
 "nbformat_minor": 1
}
